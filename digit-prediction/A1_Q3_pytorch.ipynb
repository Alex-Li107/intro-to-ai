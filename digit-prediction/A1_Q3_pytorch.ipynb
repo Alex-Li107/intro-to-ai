{
 "cells": [
  {
   "cell_type": "code",
   "execution_count": 16,
   "id": "initial_id",
   "metadata": {
    "collapsed": true,
    "ExecuteTime": {
     "end_time": "2024-06-10T21:35:28.990337400Z",
     "start_time": "2024-06-10T21:35:28.832838Z"
    }
   },
   "outputs": [
    {
     "name": "stdout",
     "output_type": "stream",
     "text": [
      "dataset's dimensions: (1797, 64)\n"
     ]
    },
    {
     "data": {
      "text/plain": "<Figure size 640x480 with 0 Axes>"
     },
     "metadata": {},
     "output_type": "display_data"
    },
    {
     "data": {
      "text/plain": "<Figure size 480x480 with 1 Axes>",
      "image/png": "[encoded data removed]"
     },
     "metadata": {},
     "output_type": "display_data"
    }
   ],
   "source": [
    "import matplotlib.pyplot as plt\n",
    "from sklearn.datasets import load_digits\n",
    "from sklearn.model_selection import train_test_split\n",
    "import numpy as np\n",
    "from torch.utils.data import DataLoader, TensorDataset\n",
    "import torch\n",
    "import torch.nn as nn\n",
    "import torch.optim as optim\n",
    "\n",
    "digits = load_digits()\n",
    "print(\"dataset's dimensions:\", digits.data.shape)\n",
    "plt.gray()\n",
    "plt.matshow(digits.images[0])\n",
    "plt.show()"
   ]
  },
  {
   "cell_type": "code",
   "outputs": [],
   "source": [
    "# this function loads train and test sets from digits dataset\n",
    "def load_data(batch_size):\n",
    "    X = digits.data\n",
    "    y = digits.target\n",
    "\n",
    "    # Split into training and test sets\n",
    "    X_train, X_test, y_train, y_test = train_test_split(X, y, test_size=0.2, random_state=42)\n",
    "    \n",
    "    # Convert to PyTorch tensors\n",
    "    X_train_tensor = torch.tensor(X_train, dtype=torch.float32)\n",
    "    y_train_tensor = torch.tensor(y_train, dtype=torch.long)\n",
    "    X_test_tensor = torch.tensor(X_test, dtype=torch.float32)\n",
    "    y_test_tensor = torch.tensor(y_test, dtype=torch.long)\n",
    "    \n",
    "    # Create DataLoader\n",
    "    train_dataset = TensorDataset(X_train_tensor, y_train_tensor)\n",
    "    train_loader = DataLoader(train_dataset, batch_size=batch_size, shuffle=True)\n",
    "    \n",
    "    test_dataset = TensorDataset(X_test_tensor, y_test_tensor)\n",
    "    test_loader = DataLoader(test_dataset, batch_size=batch_size, shuffle=False)\n",
    "    return train_loader, test_loader, test_dataset, test_loader\n",
    "    "
   ],
   "metadata": {
    "collapsed": false,
    "ExecuteTime": {
     "end_time": "2024-06-10T21:35:29.029840600Z",
     "start_time": "2024-06-10T21:35:28.994339300Z"
    }
   },
   "id": "da32f85de75e9659",
   "execution_count": 17
  },
  {
   "cell_type": "code",
   "outputs": [],
   "source": [
    "# Define the neural network\n",
    "class SimpleNN(nn.Module):\n",
    "    def __init__(self, input_size, hidden_size, output_size):\n",
    "        super(SimpleNN, self).__init__()\n",
    "        self.hidden = nn.Linear(input_size, hidden_size)\n",
    "        self.output = nn.Linear(hidden_size, output_size)\n",
    "    \n",
    "    def forward(self, x):\n",
    "        x = torch.sigmoid(self.hidden(x))\n",
    "        x = torch.softmax(self.output(x), dim=1)\n",
    "        return x"
   ],
   "metadata": {
    "collapsed": false,
    "ExecuteTime": {
     "end_time": "2024-06-10T21:35:29.030341Z",
     "start_time": "2024-06-10T21:35:29.007838700Z"
    }
   },
   "id": "54bfa5bcb9dd6a25",
   "execution_count": 18
  },
  {
   "cell_type": "code",
   "outputs": [],
   "source": [
    "# Training loop\n",
    "def train(model, data, optimizer, training_epochs, output_size, criterion, batch_size):\n",
    "    train_loader, y_train, X_test, y_test = data\n",
    "    correct = 0\n",
    "    total = 0\n",
    "    for epoch in range(training_epochs):\n",
    "        for images, labels in train_loader:\n",
    "            # One-hot encode the labels\n",
    "            labels_one_hot = torch.nn.functional.one_hot(labels, num_classes=output_size).float()\n",
    "            \n",
    "            # Forward pass\n",
    "            outputs = model(images)\n",
    "            loss = criterion(outputs, labels_one_hot)\n",
    "            \n",
    "            # Backward and optimize\n",
    "            optimizer.zero_grad()\n",
    "            loss.backward()\n",
    "            \n",
    "            # Print gradients\n",
    "            print(f'Epoch [{epoch+1}/{training_epochs}], Batch: {total//batch_size + 1}')\n",
    "            for param in model.parameters():\n",
    "                if param.grad is not None:\n",
    "                    print(f'grad: {param.grad} dim: {param.grad.shape}')\n",
    "                    return\n",
    "                \n",
    "            optimizer.step()\n",
    "            \n",
    "            # Track the loss and accuracy\n",
    "            _, predicted = torch.max(outputs.data, 1)\n",
    "            total += labels.size(0)\n",
    "            correct += (predicted == labels).sum().item()\n",
    "    \n",
    "        epoch_accuracy = 100 * correct / total\n",
    "        if epoch % 20 == 19:\n",
    "            print(f'Epoch [{epoch+1}/{training_epochs}], Loss: {loss:.4f}, Accuracy: {epoch_accuracy:.2f}%')"
   ],
   "metadata": {
    "collapsed": false,
    "ExecuteTime": {
     "end_time": "2024-06-10T21:35:29.046836600Z",
     "start_time": "2024-06-10T21:35:29.026337700Z"
    }
   },
   "id": "501d4f97511dbc7b",
   "execution_count": 19
  },
  {
   "cell_type": "code",
   "outputs": [
    {
     "name": "stdout",
     "output_type": "stream",
     "text": [
      "Training with SGD LR 0.5\n",
      "Epoch [1/200], Batch: 1\n",
      "grad: tensor([[ 0.0000e+00,  1.6762e-05,  1.2302e-04,  ..., -1.2872e-04,\n",
      "          1.9090e-04,  5.6087e-05],\n",
      "        [ 0.0000e+00,  8.6047e-07, -4.4102e-05,  ..., -6.1515e-04,\n",
      "         -3.2063e-04, -5.2904e-05],\n",
      "        [ 0.0000e+00,  1.4456e-04,  1.4591e-03,  ...,  1.3458e-03,\n",
      "          4.3414e-04, -7.8088e-05],\n",
      "        ...,\n",
      "        [ 0.0000e+00, -1.6054e-07, -2.0148e-06,  ...,  2.1621e-05,\n",
      "          2.0131e-06,  3.9004e-07],\n",
      "        [ 0.0000e+00, -4.3713e-05, -3.1180e-04,  ...,  4.2646e-05,\n",
      "          9.5213e-05,  4.9806e-05],\n",
      "        [ 0.0000e+00,  6.5481e-05,  6.6610e-04,  ...,  3.5723e-04,\n",
      "         -4.6400e-06, -2.2666e-05]]) dim: torch.Size([20, 64])\n",
      "Training with SGD LR 0.01\n",
      "Epoch [1/200], Batch: 1\n",
      "grad: tensor([[ 0.0000e+00,  4.3823e-06,  1.0818e-04,  ...,  2.6086e-04,\n",
      "          2.2191e-04,  1.2885e-04],\n",
      "        [ 0.0000e+00,  1.8560e-05,  3.5501e-04,  ...,  5.2333e-04,\n",
      "          1.4971e-04,  5.1928e-05],\n",
      "        [ 0.0000e+00, -2.0450e-05, -2.6917e-04,  ...,  4.6725e-05,\n",
      "          1.3196e-04,  4.7226e-05],\n",
      "        ...,\n",
      "        [ 0.0000e+00, -2.5642e-05,  5.0261e-04,  ...,  2.9798e-04,\n",
      "         -3.4565e-04, -2.7222e-04],\n",
      "        [ 0.0000e+00,  7.8162e-05,  1.2558e-04,  ...,  2.8775e-04,\n",
      "          1.2998e-04, -1.1147e-06],\n",
      "        [ 0.0000e+00,  7.0921e-06,  3.1431e-05,  ...,  8.9923e-07,\n",
      "          1.4899e-05,  3.0836e-06]]) dim: torch.Size([20, 64])\n"
     ]
    }
   ],
   "source": [
    "# Main function to run the experiments\n",
    "def main():\n",
    "    batch_size = 128\n",
    "    input_size = 64  # For the digits dataset (8x8 images flattened)\n",
    "    hidden_size = 20\n",
    "    output_size = 10\n",
    "    epochs = 200\n",
    "    data = load_data(batch_size)\n",
    "\n",
    "    print(\"Training with SGD LR 0.5\")\n",
    "    model = SimpleNN(input_size, hidden_size, output_size)\n",
    "    criterion = nn.MSELoss()\n",
    "    optimizer = optim.SGD(model.parameters(), lr=0.5)\n",
    "\n",
    "    train(model, data, optimizer, epochs, output_size, criterion, batch_size)\n",
    "    \n",
    "    print(\"Training with SGD LR 0.01\")\n",
    "    model = SimpleNN(input_size, hidden_size, output_size)\n",
    "    criterion = nn.MSELoss()\n",
    "    optimizer = optim.SGD(model.parameters(), lr=0.01)\n",
    "\n",
    "    train(model, data, optimizer, epochs, output_size, criterion, batch_size)\n",
    "    \n",
    "if __name__ == \"__main__\":\n",
    "    main()"
   ],
   "metadata": {
    "collapsed": false,
    "ExecuteTime": {
     "end_time": "2024-06-10T21:35:29.085836500Z",
     "start_time": "2024-06-10T21:35:29.040337400Z"
    }
   },
   "id": "8d5153e79a26d000",
   "execution_count": 20
  },
  {
   "cell_type": "code",
   "outputs": [],
   "source": [],
   "metadata": {
    "collapsed": false,
    "ExecuteTime": {
     "end_time": "2024-06-10T21:35:29.086836200Z",
     "start_time": "2024-06-10T21:35:29.069337100Z"
    }
   },
   "id": "2b6d4f3a599bd1d2",
   "execution_count": 20
  }
 ],
 "metadata": {
  "kernelspec": {
   "display_name": "Python 3",
   "language": "python",
   "name": "python3"
  },
  "language_info": {
   "codemirror_mode": {
    "name": "ipython",
    "version": 2
   },
   "file_extension": ".py",
   "mimetype": "text/x-python",
   "name": "python",
   "nbconvert_exporter": "python",
   "pygments_lexer": "ipython2",
   "version": "2.7.6"
  }
 },
 "nbformat": 4,
 "nbformat_minor": 5
}
